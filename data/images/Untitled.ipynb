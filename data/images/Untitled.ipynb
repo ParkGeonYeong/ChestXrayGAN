{
 "cells": [
  {
   "cell_type": "code",
   "execution_count": 1,
   "metadata": {},
   "outputs": [
    {
     "name": "stdout",
     "output_type": "stream",
     "text": [
      "Requirement already satisfied: opencv-python in /home/geonyoung/anaconda3/envs/RL/lib/python3.6/site-packages (4.1.0.25)\r\n",
      "Requirement already satisfied: numpy>=1.11.3 in /home/geonyoung/anaconda3/envs/RL/lib/python3.6/site-packages (from opencv-python) (1.16.3)\r\n"
     ]
    }
   ],
   "source": [
    "!pip install opencv-python\n",
    "import numpy as np\n",
    "from PIL import Image\n",
    "from glob import glob\n",
    "import os\n",
    "import cv2\n"
   ]
  },
  {
   "cell_type": "code",
   "execution_count": 10,
   "metadata": {},
   "outputs": [
    {
     "data": {
      "text/plain": [
       "array([[   0,    1],\n",
       "       [   0,    8],\n",
       "       [   0,    9],\n",
       "       ...,\n",
       "       [1023, 1021],\n",
       "       [1023, 1022],\n",
       "       [1023, 1023]])"
      ]
     },
     "execution_count": 10,
     "metadata": {},
     "output_type": "execute_result"
    }
   ],
   "source": [
    "a = np.asarray(Image.open(glob(os.getcwd()+'/*.png')[0]))\n",
    "c = np.argwhere(a>20)\n",
    "b=cv2.resize(a, (256,256), interpolation=cv2.INTER_CUBIC)\n",
    "c"
   ]
  },
  {
   "cell_type": "code",
   "execution_count": 7,
   "metadata": {},
   "outputs": [
    {
     "data": {
      "text/plain": [
       "1048576"
      ]
     },
     "execution_count": 7,
     "metadata": {},
     "output_type": "execute_result"
    }
   ],
   "source": [
    "1024*1024"
   ]
  },
  {
   "cell_type": "code",
   "execution_count": null,
   "metadata": {},
   "outputs": [],
   "source": []
  }
 ],
 "metadata": {
  "kernelspec": {
   "display_name": "Python 3",
   "language": "python",
   "name": "python3"
  },
  "language_info": {
   "codemirror_mode": {
    "name": "ipython",
    "version": 3
   },
   "file_extension": ".py",
   "mimetype": "text/x-python",
   "name": "python",
   "nbconvert_exporter": "python",
   "pygments_lexer": "ipython3",
   "version": "3.6.8"
  }
 },
 "nbformat": 4,
 "nbformat_minor": 2
}
